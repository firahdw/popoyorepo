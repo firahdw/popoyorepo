{
 "cells": [
  {
   "cell_type": "markdown",
   "id": "605e57f6-3554-4d89-a851-860a9a114c7b",
   "metadata": {},
   "source": [
    "# Data Science Tools and Ecosystem\n",
    "In this notebook, Data Science Tools and Ecosystem are summarized."
   ]
  },
  {
   "cell_type": "markdown",
   "id": "9a6dcd1f-8dbe-4781-90e7-147958e853ae",
   "metadata": {},
   "source": [
    "Some of the popular languages that Data Scientists use are:\n",
    "1. Python\n",
    "2. R \n",
    "3. SQL\n",
    "4. Julia"
   ]
  },
  {
   "cell_type": "markdown",
   "id": "aa212bd6-8f8c-4058-b5c5-682d832fbae8",
   "metadata": {},
   "source": [
    "Some of the commonly used libraries used by Data Scientists include:\n",
    "1. NumPy\n",
    "2. TensorFlow\n",
    "4. SciPy"
   ]
  },
  {
   "cell_type": "markdown",
   "id": "1e739edf-debc-4e2f-a38f-c00e165cae31",
   "metadata": {},
   "source": [
    "| Data Science Tools |\n",
    "| ------------------ |\n",
    "| Python |\n",
    "| R |\n",
    "| Jupyter Notebook |"
   ]
  },
  {
   "cell_type": "markdown",
   "id": "93c59d41-9fde-4e03-91e1-b38922138bf9",
   "metadata": {},
   "source": [
    "### Below are a few examples of evaluating arithmetic expressions in Python"
   ]
  },
  {
   "cell_type": "markdown",
   "id": "279e2935-f5f8-4612-b4d5-a5a84c50fdaa",
   "metadata": {},
   "source": [
    "This a simple arithmetic expression to mutiply then add integers"
   ]
  },
  {
   "cell_type": "code",
   "execution_count": 5,
   "id": "df94e4e0-a58b-41f5-bade-d58f94ec7234",
   "metadata": {},
   "outputs": [
    {
     "data": {
      "text/plain": [
       "17"
      ]
     },
     "execution_count": 5,
     "metadata": {},
     "output_type": "execute_result"
    }
   ],
   "source": [
    "(3*4)+5"
   ]
  },
  {
   "cell_type": "markdown",
   "id": "c6d278f2-037c-4318-ab7f-592f6ced3a11",
   "metadata": {},
   "source": [
    " This will convert 200 minutes to hours by diving by 60"
   ]
  },
  {
   "cell_type": "code",
   "execution_count": 6,
   "id": "ede8597d-32c5-4bee-91d7-abf6ccc1ed59",
   "metadata": {},
   "outputs": [
    {
     "data": {
      "text/plain": [
       "3.3333333333333335"
      ]
     },
     "execution_count": 6,
     "metadata": {},
     "output_type": "execute_result"
    }
   ],
   "source": [
    "200/60"
   ]
  },
  {
   "cell_type": "markdown",
   "id": "c8884ca8-9d6b-4b33-8059-3519e8d665b7",
   "metadata": {},
   "source": [
    "__Objectives:__\n",
    "\n",
    "List popular languages for Data Science\n",
    "* Python\n",
    "* JavaScript\n",
    "* R\n",
    "* SQL\n",
    "* Julia"
   ]
  },
  {
   "cell_type": "markdown",
   "id": "762cfd83-d08b-4a5c-abf3-7ae81647e769",
   "metadata": {},
   "source": [
    "## Author \n",
    "Maghfirah Damayanti Witono"
   ]
  },
  {
   "cell_type": "code",
   "execution_count": null,
   "id": "c37f0a81-f07f-4138-8c74-bf971c03468a",
   "metadata": {},
   "outputs": [],
   "source": []
  }
 ],
 "metadata": {
  "kernelspec": {
   "display_name": "Python 3 (ipykernel)",
   "language": "python",
   "name": "python3"
  },
  "language_info": {
   "codemirror_mode": {
    "name": "ipython",
    "version": 3
   },
   "file_extension": ".py",
   "mimetype": "text/x-python",
   "name": "python",
   "nbconvert_exporter": "python",
   "pygments_lexer": "ipython3",
   "version": "3.11.7"
  }
 },
 "nbformat": 4,
 "nbformat_minor": 5
}
